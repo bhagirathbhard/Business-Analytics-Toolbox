{
 "cells": [
  {
   "cell_type": "markdown",
   "metadata": {},
   "source": [
    "## Assignment 1 - BA775 (Fall 2022)\n",
    "\n",
    "Note that this assignment captures topics from classes 3 & 4. You should run your queries in BigQuery or a Vertex AI notebook and submit the answers with your code in the rationale box of Blackboard (under the Assessment tab). 50% of the grade comes from the rationale and the other 50% from the multiple-choice answers."
   ]
  },
  {
   "cell_type": "markdown",
   "metadata": {},
   "source": [
    "### Question 1&2\n",
    "\n",
    "Using the following table (`bigquery-public-data.baseball.schedules`), which baseball game had the biggest attendance in 2016?"
   ]
  },
  {
   "cell_type": "code",
   "execution_count": 1,
   "metadata": {},
   "outputs": [
    {
     "name": "stderr",
     "output_type": "stream",
     "text": [
      "Query complete after 0.01s: 100%|██████████| 1/1 [00:00<00:00, 895.64query/s] \n",
      "Downloading: 100%|██████████| 5/5 [00:01<00:00,  2.50rows/s]\n"
     ]
    },
    {
     "data": {
      "text/html": [
       "<div>\n",
       "<style scoped>\n",
       "    .dataframe tbody tr th:only-of-type {\n",
       "        vertical-align: middle;\n",
       "    }\n",
       "\n",
       "    .dataframe tbody tr th {\n",
       "        vertical-align: top;\n",
       "    }\n",
       "\n",
       "    .dataframe thead th {\n",
       "        text-align: right;\n",
       "    }\n",
       "</style>\n",
       "<table border=\"1\" class=\"dataframe\">\n",
       "  <thead>\n",
       "    <tr style=\"text-align: right;\">\n",
       "      <th></th>\n",
       "      <th>gameId</th>\n",
       "      <th>gameNumber</th>\n",
       "      <th>seasonId</th>\n",
       "      <th>year</th>\n",
       "      <th>type</th>\n",
       "      <th>dayNight</th>\n",
       "      <th>duration</th>\n",
       "      <th>duration_minutes</th>\n",
       "      <th>homeTeamId</th>\n",
       "      <th>homeTeamName</th>\n",
       "      <th>awayTeamId</th>\n",
       "      <th>awayTeamName</th>\n",
       "      <th>startTime</th>\n",
       "      <th>attendance</th>\n",
       "      <th>status</th>\n",
       "      <th>created</th>\n",
       "    </tr>\n",
       "  </thead>\n",
       "  <tbody>\n",
       "    <tr>\n",
       "      <th>0</th>\n",
       "      <td>e14b6493-9e7f-404f-840a-8a680cc364bf</td>\n",
       "      <td>1</td>\n",
       "      <td>565de4be-dc80-4849-a7e1-54bc79156cc8</td>\n",
       "      <td>2016</td>\n",
       "      <td>REG</td>\n",
       "      <td>D</td>\n",
       "      <td>3:07</td>\n",
       "      <td>187</td>\n",
       "      <td>03556285-bdbb-4576-a06d-42f71f46ddc5</td>\n",
       "      <td>Marlins</td>\n",
       "      <td>55714da8-fcaf-4574-8443-59bfb511a524</td>\n",
       "      <td>Cubs</td>\n",
       "      <td>2016-06-26 17:10:00+00:00</td>\n",
       "      <td>27318</td>\n",
       "      <td>closed</td>\n",
       "      <td>2016-10-06 06:25:15+00:00</td>\n",
       "    </tr>\n",
       "    <tr>\n",
       "      <th>1</th>\n",
       "      <td>1f32b347-cbcb-4c31-a145-0e685306d168</td>\n",
       "      <td>1</td>\n",
       "      <td>565de4be-dc80-4849-a7e1-54bc79156cc8</td>\n",
       "      <td>2016</td>\n",
       "      <td>REG</td>\n",
       "      <td>D</td>\n",
       "      <td>3:09</td>\n",
       "      <td>189</td>\n",
       "      <td>03556285-bdbb-4576-a06d-42f71f46ddc5</td>\n",
       "      <td>Marlins</td>\n",
       "      <td>55714da8-fcaf-4574-8443-59bfb511a524</td>\n",
       "      <td>Cubs</td>\n",
       "      <td>2016-06-25 20:10:00+00:00</td>\n",
       "      <td>29457</td>\n",
       "      <td>closed</td>\n",
       "      <td>2016-10-06 06:25:15+00:00</td>\n",
       "    </tr>\n",
       "    <tr>\n",
       "      <th>2</th>\n",
       "      <td>0c2292d1-7398-48be-bf8e-b41dad5e1a43</td>\n",
       "      <td>1</td>\n",
       "      <td>565de4be-dc80-4849-a7e1-54bc79156cc8</td>\n",
       "      <td>2016</td>\n",
       "      <td>REG</td>\n",
       "      <td>D</td>\n",
       "      <td>2:45</td>\n",
       "      <td>165</td>\n",
       "      <td>12079497-e414-450a-8bf2-29f91de646bf</td>\n",
       "      <td>Braves</td>\n",
       "      <td>55714da8-fcaf-4574-8443-59bfb511a524</td>\n",
       "      <td>Cubs</td>\n",
       "      <td>2016-06-11 20:10:00+00:00</td>\n",
       "      <td>43114</td>\n",
       "      <td>closed</td>\n",
       "      <td>2016-10-06 06:25:15+00:00</td>\n",
       "    </tr>\n",
       "    <tr>\n",
       "      <th>3</th>\n",
       "      <td>8fbec734-a15a-42ab-8d51-60790de7750b</td>\n",
       "      <td>1</td>\n",
       "      <td>565de4be-dc80-4849-a7e1-54bc79156cc8</td>\n",
       "      <td>2016</td>\n",
       "      <td>REG</td>\n",
       "      <td>D</td>\n",
       "      <td>3:42</td>\n",
       "      <td>222</td>\n",
       "      <td>12079497-e414-450a-8bf2-29f91de646bf</td>\n",
       "      <td>Braves</td>\n",
       "      <td>55714da8-fcaf-4574-8443-59bfb511a524</td>\n",
       "      <td>Cubs</td>\n",
       "      <td>2016-06-12 17:35:00+00:00</td>\n",
       "      <td>31625</td>\n",
       "      <td>closed</td>\n",
       "      <td>2016-10-06 06:25:15+00:00</td>\n",
       "    </tr>\n",
       "    <tr>\n",
       "      <th>4</th>\n",
       "      <td>89e514d5-fbf5-4b9d-bdac-6ca45bfd18dd</td>\n",
       "      <td>1</td>\n",
       "      <td>565de4be-dc80-4849-a7e1-54bc79156cc8</td>\n",
       "      <td>2016</td>\n",
       "      <td>REG</td>\n",
       "      <td>D</td>\n",
       "      <td>2:44</td>\n",
       "      <td>164</td>\n",
       "      <td>2142e1ba-3b40-445c-b8bb-f1f8b1054220</td>\n",
       "      <td>Phillies</td>\n",
       "      <td>55714da8-fcaf-4574-8443-59bfb511a524</td>\n",
       "      <td>Cubs</td>\n",
       "      <td>2016-06-08 17:05:00+00:00</td>\n",
       "      <td>28650</td>\n",
       "      <td>closed</td>\n",
       "      <td>2016-10-06 06:25:15+00:00</td>\n",
       "    </tr>\n",
       "  </tbody>\n",
       "</table>\n",
       "</div>"
      ],
      "text/plain": [
       "                                 gameId  gameNumber  \\\n",
       "0  e14b6493-9e7f-404f-840a-8a680cc364bf           1   \n",
       "1  1f32b347-cbcb-4c31-a145-0e685306d168           1   \n",
       "2  0c2292d1-7398-48be-bf8e-b41dad5e1a43           1   \n",
       "3  8fbec734-a15a-42ab-8d51-60790de7750b           1   \n",
       "4  89e514d5-fbf5-4b9d-bdac-6ca45bfd18dd           1   \n",
       "\n",
       "                               seasonId  year type dayNight duration  \\\n",
       "0  565de4be-dc80-4849-a7e1-54bc79156cc8  2016  REG        D     3:07   \n",
       "1  565de4be-dc80-4849-a7e1-54bc79156cc8  2016  REG        D     3:09   \n",
       "2  565de4be-dc80-4849-a7e1-54bc79156cc8  2016  REG        D     2:45   \n",
       "3  565de4be-dc80-4849-a7e1-54bc79156cc8  2016  REG        D     3:42   \n",
       "4  565de4be-dc80-4849-a7e1-54bc79156cc8  2016  REG        D     2:44   \n",
       "\n",
       "   duration_minutes                            homeTeamId homeTeamName  \\\n",
       "0               187  03556285-bdbb-4576-a06d-42f71f46ddc5      Marlins   \n",
       "1               189  03556285-bdbb-4576-a06d-42f71f46ddc5      Marlins   \n",
       "2               165  12079497-e414-450a-8bf2-29f91de646bf       Braves   \n",
       "3               222  12079497-e414-450a-8bf2-29f91de646bf       Braves   \n",
       "4               164  2142e1ba-3b40-445c-b8bb-f1f8b1054220     Phillies   \n",
       "\n",
       "                             awayTeamId awayTeamName  \\\n",
       "0  55714da8-fcaf-4574-8443-59bfb511a524         Cubs   \n",
       "1  55714da8-fcaf-4574-8443-59bfb511a524         Cubs   \n",
       "2  55714da8-fcaf-4574-8443-59bfb511a524         Cubs   \n",
       "3  55714da8-fcaf-4574-8443-59bfb511a524         Cubs   \n",
       "4  55714da8-fcaf-4574-8443-59bfb511a524         Cubs   \n",
       "\n",
       "                  startTime  attendance  status                   created  \n",
       "0 2016-06-26 17:10:00+00:00       27318  closed 2016-10-06 06:25:15+00:00  \n",
       "1 2016-06-25 20:10:00+00:00       29457  closed 2016-10-06 06:25:15+00:00  \n",
       "2 2016-06-11 20:10:00+00:00       43114  closed 2016-10-06 06:25:15+00:00  \n",
       "3 2016-06-12 17:35:00+00:00       31625  closed 2016-10-06 06:25:15+00:00  \n",
       "4 2016-06-08 17:05:00+00:00       28650  closed 2016-10-06 06:25:15+00:00  "
      ]
     },
     "execution_count": 1,
     "metadata": {},
     "output_type": "execute_result"
    }
   ],
   "source": [
    "%%bigquery\n",
    "SELECT * FROM `bigquery-public-data.baseball.schedules` LIMIT 5"
   ]
  },
  {
   "cell_type": "code",
   "execution_count": 1,
   "metadata": {},
   "outputs": [],
   "source": [
    "# Your answer goes here"
   ]
  },
  {
   "cell_type": "markdown",
   "metadata": {},
   "source": [
    "### Question 3&4\n",
    "\n",
    "In 2016, which team played the longest games at home on average?\n",
    "\n",
    "Hint: You will need to take the average `duration_minutes` for each `homeTeamName`. This can be achieved by a `GROUP BY` and then an `ORDER BY`."
   ]
  },
  {
   "cell_type": "code",
   "execution_count": 2,
   "metadata": {},
   "outputs": [],
   "source": [
    "# Your answer goes here"
   ]
  },
  {
   "cell_type": "markdown",
   "metadata": {},
   "source": [
    "---\n",
    "---\n",
    "The remaining questions refer to table `bigquery-public-data.austin_bikeshare.bikeshare_trips`."
   ]
  },
  {
   "cell_type": "code",
   "execution_count": 6,
   "metadata": {},
   "outputs": [
    {
     "name": "stderr",
     "output_type": "stream",
     "text": [
      "Query complete after 0.00s: 100%|██████████| 1/1 [00:00<00:00, 820.64query/s] \n",
      "Downloading: 100%|██████████| 5/5 [00:01<00:00,  3.47rows/s]\n"
     ]
    },
    {
     "data": {
      "text/html": [
       "<div>\n",
       "<style scoped>\n",
       "    .dataframe tbody tr th:only-of-type {\n",
       "        vertical-align: middle;\n",
       "    }\n",
       "\n",
       "    .dataframe tbody tr th {\n",
       "        vertical-align: top;\n",
       "    }\n",
       "\n",
       "    .dataframe thead th {\n",
       "        text-align: right;\n",
       "    }\n",
       "</style>\n",
       "<table border=\"1\" class=\"dataframe\">\n",
       "  <thead>\n",
       "    <tr style=\"text-align: right;\">\n",
       "      <th></th>\n",
       "      <th>trip_id</th>\n",
       "      <th>subscriber_type</th>\n",
       "      <th>bikeid</th>\n",
       "      <th>start_time</th>\n",
       "      <th>start_station_id</th>\n",
       "      <th>start_station_name</th>\n",
       "      <th>end_station_id</th>\n",
       "      <th>end_station_name</th>\n",
       "      <th>duration_minutes</th>\n",
       "    </tr>\n",
       "  </thead>\n",
       "  <tbody>\n",
       "    <tr>\n",
       "      <th>0</th>\n",
       "      <td>9900285908</td>\n",
       "      <td>Annual Membership (Austin B-cycle)</td>\n",
       "      <td>400</td>\n",
       "      <td>2014-10-26 14:12:00+00:00</td>\n",
       "      <td>2823</td>\n",
       "      <td>Capital Metro HQ - East 5th at Broadway</td>\n",
       "      <td>2544</td>\n",
       "      <td>East 6th &amp; Pedernales St.</td>\n",
       "      <td>10</td>\n",
       "    </tr>\n",
       "    <tr>\n",
       "      <th>1</th>\n",
       "      <td>9900289692</td>\n",
       "      <td>Walk Up</td>\n",
       "      <td>248</td>\n",
       "      <td>2015-10-02 21:12:01+00:00</td>\n",
       "      <td>1006</td>\n",
       "      <td>Zilker Park West</td>\n",
       "      <td>1008</td>\n",
       "      <td>Nueces @ 3rd</td>\n",
       "      <td>39</td>\n",
       "    </tr>\n",
       "    <tr>\n",
       "      <th>2</th>\n",
       "      <td>9900285987</td>\n",
       "      <td>24-Hour Kiosk (Austin B-cycle)</td>\n",
       "      <td>446</td>\n",
       "      <td>2014-10-26 15:12:00+00:00</td>\n",
       "      <td>2712</td>\n",
       "      <td>Toomey Rd @ South Lamar</td>\n",
       "      <td>2712</td>\n",
       "      <td>Toomey Rd @ South Lamar</td>\n",
       "      <td>31</td>\n",
       "    </tr>\n",
       "    <tr>\n",
       "      <th>3</th>\n",
       "      <td>9900285989</td>\n",
       "      <td>24-Hour Kiosk (Austin B-cycle)</td>\n",
       "      <td>203</td>\n",
       "      <td>2014-10-26 15:12:00+00:00</td>\n",
       "      <td>2712</td>\n",
       "      <td>Toomey Rd @ South Lamar</td>\n",
       "      <td>2712</td>\n",
       "      <td>Toomey Rd @ South Lamar</td>\n",
       "      <td>31</td>\n",
       "    </tr>\n",
       "    <tr>\n",
       "      <th>4</th>\n",
       "      <td>9900285991</td>\n",
       "      <td>24-Hour Kiosk (Austin B-cycle)</td>\n",
       "      <td>101</td>\n",
       "      <td>2014-10-26 15:12:00+00:00</td>\n",
       "      <td>2712</td>\n",
       "      <td>Toomey Rd @ South Lamar</td>\n",
       "      <td>2712</td>\n",
       "      <td>Toomey Rd @ South Lamar</td>\n",
       "      <td>30</td>\n",
       "    </tr>\n",
       "  </tbody>\n",
       "</table>\n",
       "</div>"
      ],
      "text/plain": [
       "      trip_id                     subscriber_type bikeid  \\\n",
       "0  9900285908  Annual Membership (Austin B-cycle)    400   \n",
       "1  9900289692                             Walk Up    248   \n",
       "2  9900285987      24-Hour Kiosk (Austin B-cycle)    446   \n",
       "3  9900285989      24-Hour Kiosk (Austin B-cycle)    203   \n",
       "4  9900285991      24-Hour Kiosk (Austin B-cycle)    101   \n",
       "\n",
       "                 start_time  start_station_id  \\\n",
       "0 2014-10-26 14:12:00+00:00              2823   \n",
       "1 2015-10-02 21:12:01+00:00              1006   \n",
       "2 2014-10-26 15:12:00+00:00              2712   \n",
       "3 2014-10-26 15:12:00+00:00              2712   \n",
       "4 2014-10-26 15:12:00+00:00              2712   \n",
       "\n",
       "                        start_station_name end_station_id  \\\n",
       "0  Capital Metro HQ - East 5th at Broadway           2544   \n",
       "1                         Zilker Park West           1008   \n",
       "2                  Toomey Rd @ South Lamar           2712   \n",
       "3                  Toomey Rd @ South Lamar           2712   \n",
       "4                  Toomey Rd @ South Lamar           2712   \n",
       "\n",
       "            end_station_name  duration_minutes  \n",
       "0  East 6th & Pedernales St.                10  \n",
       "1               Nueces @ 3rd                39  \n",
       "2    Toomey Rd @ South Lamar                31  \n",
       "3    Toomey Rd @ South Lamar                31  \n",
       "4    Toomey Rd @ South Lamar                30  "
      ]
     },
     "execution_count": 6,
     "metadata": {},
     "output_type": "execute_result"
    }
   ],
   "source": [
    "%%bigquery\n",
    "SELECT * FROM `bigquery-public-data.austin_bikeshare.bikeshare_trips` LIMIT 5"
   ]
  },
  {
   "cell_type": "markdown",
   "metadata": {},
   "source": [
    "### Question 5&6\n",
    "\n",
    "How many distinct and valid station IDs are in this table? Valid station IDs are integer numbers.\n",
    "\n",
    "**Note1:** notice that we are looking for valid station IDs, meaning that any station ID that is missing (is null) should be excluded.\n",
    "\n",
    "**Note2:** the question doesn't specify `start_station_id` or `end_station_id` and refers to all the station IDs. You would need to use a UNION to merge them all.\n",
    "\n",
    "**Note3:** `start_station_id` is listed as INT but `end_station_id` is STR. To do a UNION, you must have all of the columns in the same format and the same data type. Convert `start_station_id` to STR: I.e, `CAST(start_station_id AS STRING)`\n",
    "\n",
    "**Hint:** some records have `end_station_id` as `'Event'`. Since these do not qualify as valid station IDs we will have to exclude them."
   ]
  },
  {
   "cell_type": "code",
   "execution_count": 7,
   "metadata": {},
   "outputs": [],
   "source": [
    "# Your answer goes here"
   ]
  },
  {
   "cell_type": "markdown",
   "metadata": {},
   "source": [
    "### Question 7&8\n",
    "Which station has the highest number of trips that start from and end at that station?"
   ]
  },
  {
   "cell_type": "code",
   "execution_count": 8,
   "metadata": {},
   "outputs": [],
   "source": [
    "# Your answer goes here"
   ]
  },
  {
   "cell_type": "markdown",
   "metadata": {},
   "source": [
    "### Question 9&10\n",
    "Which station is the most popular destination?"
   ]
  },
  {
   "cell_type": "code",
   "execution_count": 9,
   "metadata": {},
   "outputs": [],
   "source": [
    "# Your answer goes here"
   ]
  },
  {
   "cell_type": "markdown",
   "metadata": {},
   "source": [
    "### Question 11&12\n",
    "How many different types of subscribers appear in this dataset?"
   ]
  },
  {
   "cell_type": "code",
   "execution_count": 10,
   "metadata": {},
   "outputs": [],
   "source": [
    "# Your answer goes here"
   ]
  },
  {
   "cell_type": "markdown",
   "metadata": {},
   "source": [
    "### Question 13&14\n",
    "Which one is by far the most popular subscriber plan?"
   ]
  },
  {
   "cell_type": "code",
   "execution_count": 11,
   "metadata": {},
   "outputs": [],
   "source": [
    "# Your answer goes here"
   ]
  },
  {
   "cell_type": "markdown",
   "metadata": {},
   "source": [
    "### Question 15&16\n",
    "How many bike rides are in this dataset?"
   ]
  },
  {
   "cell_type": "code",
   "execution_count": 12,
   "metadata": {},
   "outputs": [],
   "source": [
    "# Your answer goes here"
   ]
  },
  {
   "cell_type": "markdown",
   "metadata": {},
   "source": [
    "### Question 17&18\n",
    "Which month was the busiest month in 2021?\n",
    "\n",
    "Hint: Use the EXTRACT function to extract the date components. For more help, go to the documentation: https://cloud.google.com/bigquery/docs/reference/standard-sql/date_functions"
   ]
  },
  {
   "cell_type": "code",
   "execution_count": 13,
   "metadata": {},
   "outputs": [],
   "source": [
    "# Your answer goes here"
   ]
  }
 ],
 "metadata": {
  "environment": {
   "kernel": "python3",
   "name": "common-cpu.m95",
   "type": "gcloud",
   "uri": "gcr.io/deeplearning-platform-release/base-cpu:m95"
  },
  "kernelspec": {
   "display_name": "Python 3",
   "language": "python",
   "name": "python3"
  },
  "language_info": {
   "codemirror_mode": {
    "name": "ipython",
    "version": 3
   },
   "file_extension": ".py",
   "mimetype": "text/x-python",
   "name": "python",
   "nbconvert_exporter": "python",
   "pygments_lexer": "ipython3",
   "version": "3.7.12"
  }
 },
 "nbformat": 4,
 "nbformat_minor": 4
}
